{
 "cells": [
  {
   "cell_type": "code",
   "execution_count": 4,
   "metadata": {},
   "outputs": [],
   "source": [
    "import pandas as pd\n",
    "import numpy as np\n",
    "import pickle"
   ]
  },
  {
   "cell_type": "code",
   "execution_count": 6,
   "metadata": {},
   "outputs": [],
   "source": [
    "dataset = pd.read_csv(\"dataset/iit/dataframe/dataset.csv\")"
   ]
  },
  {
   "cell_type": "code",
   "execution_count": 7,
   "metadata": {},
   "outputs": [],
   "source": [
    "features = pd.DataFrame()"
   ]
  },
  {
   "cell_type": "markdown",
   "metadata": {},
   "source": [
    "### Get Titles starting with a NUMBER"
   ]
  },
  {
   "cell_type": "code",
   "execution_count": 8,
   "metadata": {},
   "outputs": [],
   "source": [
    "digits = []\n",
    "for key, value in dataset.iterrows():\n",
    "    sp = value[0].split(\" \")\n",
    "    if sp[0].isdigit():\n",
    "        digits.append(1)\n",
    "    else:\n",
    "        digits.append(0)"
   ]
  },
  {
   "cell_type": "code",
   "execution_count": 9,
   "metadata": {},
   "outputs": [],
   "source": [
    "features = features.assign(StartsWithNumber=pd.Series(np.array(digits)))"
   ]
  },
  {
   "cell_type": "markdown",
   "metadata": {},
   "source": [
    "### Get Titles starting with Stop word"
   ]
  },
  {
   "cell_type": "code",
   "execution_count": 10,
   "metadata": {},
   "outputs": [],
   "source": [
    "swf = open(\"dataset/iit/startWithStopWords.pkl\", \"rb\")\n",
    "functional_words = pickle.load(swf)\n",
    "functional_present = [0]*len(dataset)\n",
    "for key, value in dataset.iterrows():\n",
    "    sp = value[0].split(\" \")\n",
    "    if sp[0] in functional_words:\n",
    "        functional_present[key] = 1"
   ]
  },
  {
   "cell_type": "code",
   "execution_count": 11,
   "metadata": {},
   "outputs": [],
   "source": [
    "features = features.assign(StartsWithThisWhich=pd.Series(np.array(functional_present)))"
   ]
  },
  {
   "cell_type": "markdown",
   "metadata": {},
   "source": [
    "### Get Titles having the pattern \"The  {NUMBER}\" "
   ]
  },
  {
   "cell_type": "code",
   "execution_count": 12,
   "metadata": {},
   "outputs": [],
   "source": [
    "the_and_number = []\n",
    "for key, value in dataset.iterrows():\n",
    "    sp = value[0].split(\" \")\n",
    "    for i in range(len(sp) - 1):\n",
    "        if (sp[i] == \"The\" and sp[i+1].isdigit()) or (sp[i] == \"These\" and sp[i+1].isdigit()):\n",
    "            the_and_number.append(1)\n",
    "        else:\n",
    "            the_and_number.append(0)\n",
    "        "
   ]
  },
  {
   "cell_type": "code",
   "execution_count": 13,
   "metadata": {},
   "outputs": [],
   "source": [
    "features = features.assign(TheNUMBER=pd.Series(np.array(the_and_number)))"
   ]
  },
  {
   "cell_type": "markdown",
   "metadata": {},
   "source": [
    "### Get Titles having slang words"
   ]
  },
  {
   "cell_type": "code",
   "execution_count": 14,
   "metadata": {},
   "outputs": [],
   "source": [
    "slang_present = [0]*len(dataset)\n",
    "slangs = [\"LOL\", \"OMG\", \"WTF\", \"AMA\", \"AF\", \"Fuck\", \"FYI\", \"BFF\", \"IRL\", \"DIY\", \"Hashtag\", \"BBQ\", \"ASAP\", \"GIF\", \"FOMO\", \"Aww\", \"TBT\", \"OCD\", \"PTSD\", \"STD\", \"Nope\", \"nope\", \"NOPE\", \"TBH\", \"Shit\", \"shit\", \"Suck\"]\n",
    "for key, value in dataset.iterrows():\n",
    "    for slang in slangs:\n",
    "        if slang in value[0]:\n",
    "            if slang_present[key] is 0:\n",
    "                slang_present[key] = 1\n"
   ]
  },
  {
   "cell_type": "code",
   "execution_count": 15,
   "metadata": {},
   "outputs": [],
   "source": [
    "features = features.assign(slang_present=pd.Series(np.array(slang_present)))"
   ]
  },
  {
   "cell_type": "markdown",
   "metadata": {},
   "source": [
    "### Get Titles having short words"
   ]
  },
  {
   "cell_type": "code",
   "execution_count": 16,
   "metadata": {},
   "outputs": [],
   "source": [
    "shortwords_present = [0]*len(dataset)\n",
    "shw_file = open(\"dataset/iit/shortenedWords.pkl\", \"rb\")\n",
    "shortwords = pickle.load(shw_file)\n",
    "for key, value in dataset.iterrows():\n",
    "    for shortword in shortwords:\n",
    "        if shortword in value[0]:\n",
    "            if shortwords_present[key] is 0:\n",
    "                shortwords_present[key] = 1"
   ]
  },
  {
   "cell_type": "code",
   "execution_count": 17,
   "metadata": {},
   "outputs": [],
   "source": [
    "features = features.assign(short_words_present=pd.Series(np.array(shortwords_present)))"
   ]
  },
  {
   "cell_type": "markdown",
   "metadata": {},
   "source": [
    "### Get Titles having top 25 Clickbait bigrams"
   ]
  },
  {
   "cell_type": "code",
   "execution_count": 18,
   "metadata": {},
   "outputs": [],
   "source": [
    "bigrams_present = [0]*len(dataset)\n",
    "bif = open(\"dataset/iit/commonBigrams.pkl\", \"rb\")\n",
    "phrases = pickle.load(bif)\n",
    "for key, value in dataset.iterrows():\n",
    "    for phrase in phrases:\n",
    "        if phrase in value[0]:\n",
    "            if bigrams_present[key] is 0:\n",
    "                bigrams_present[key] = 1"
   ]
  },
  {
   "cell_type": "code",
   "execution_count": 19,
   "metadata": {},
   "outputs": [],
   "source": [
    "features = features.assign(bigrams_present=pd.Series(np.array(bigrams_present)))"
   ]
  },
  {
   "cell_type": "markdown",
   "metadata": {},
   "source": [
    "### Get Titles having top 25 Clickbait Trigrams"
   ]
  },
  {
   "cell_type": "code",
   "execution_count": 20,
   "metadata": {},
   "outputs": [],
   "source": [
    "trigrams_present = [0]*len(dataset)\n",
    "trif = open(\"dataset/iit/commonTrigrams.pkl\", \"rb\")\n",
    "trigrams = pickle.load(trif)\n",
    "for key, value in dataset.iterrows():\n",
    "    for phrase in trigrams:\n",
    "        if phrase in value[0]:\n",
    "            if trigrams_present[key] is 0:\n",
    "                trigrams_present[key] = 1"
   ]
  },
  {
   "cell_type": "code",
   "execution_count": 47,
   "metadata": {},
   "outputs": [],
   "source": [
    "features = features.assign(trigrams_present=pd.Series(np.array(trigrams_present)))"
   ]
  },
  {
   "cell_type": "markdown",
   "metadata": {},
   "source": [
    "### Get Titles having punctuations"
   ]
  },
  {
   "cell_type": "code",
   "execution_count": 21,
   "metadata": {},
   "outputs": [],
   "source": [
    "is_punctuation_present = []\n",
    "for key, value in dataset.iterrows():\n",
    "    if '\"' in value[0] or \"!\" in value[0] or \"!!\" in value[0] or \"?!\" in value[0] or \"...\" in value[0] or \"*\" in value[0]:\n",
    "        is_punctuation_present.append(1)\n",
    "    else:\n",
    "        is_punctuation_present.append(0)"
   ]
  },
  {
   "cell_type": "code",
   "execution_count": 22,
   "metadata": {},
   "outputs": [],
   "source": [
    "features = features.assign(punctuation_present=pd.Series(np.array(is_punctuation_present)))"
   ]
  },
  {
   "cell_type": "markdown",
   "metadata": {},
   "source": [
    "### Get Titles having more than 3 stopwords"
   ]
  },
  {
   "cell_type": "code",
   "execution_count": 23,
   "metadata": {},
   "outputs": [],
   "source": [
    "three_plus_file = open(\"dataset/iit/greaterThanThreeSW.pkl\", \"rb\")\n",
    "more_than_three = pickle.load(three_plus_file)\n",
    "features = features.assign(more_than_three_sw=pd.Series(np.array(more_than_three)))"
   ]
  },
  {
   "cell_type": "markdown",
   "metadata": {},
   "source": [
    "### Get length of each sentence"
   ]
  },
  {
   "cell_type": "code",
   "execution_count": 28,
   "metadata": {},
   "outputs": [],
   "source": [
    "length_of_each = []\n",
    "for key, value in dataset.iterrows():\n",
    "    length_of_each.append(len(value[0]))\n",
    "features = features.assign(length_of_each=pd.Series(np.array(length_of_each)))"
   ]
  },
  {
   "cell_type": "code",
   "execution_count": 29,
   "metadata": {},
   "outputs": [],
   "source": [
    "features.to_csv(\"dataset/iit/features.csv\", index=False)"
   ]
  }
 ],
 "metadata": {
  "kernelspec": {
   "display_name": "Python 3",
   "language": "python",
   "name": "python3"
  },
  "language_info": {
   "codemirror_mode": {
    "name": "ipython",
    "version": 3
   },
   "file_extension": ".py",
   "mimetype": "text/x-python",
   "name": "python",
   "nbconvert_exporter": "python",
   "pygments_lexer": "ipython3",
   "version": "3.7.0"
  }
 },
 "nbformat": 4,
 "nbformat_minor": 2
}
