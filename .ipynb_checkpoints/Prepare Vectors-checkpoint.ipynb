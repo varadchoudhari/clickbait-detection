{
 "cells": [
  {
   "cell_type": "code",
   "execution_count": 102,
   "metadata": {},
   "outputs": [],
   "source": [
    "import pandas as pd\n",
    "import numpy as np"
   ]
  },
  {
   "cell_type": "code",
   "execution_count": 103,
   "metadata": {},
   "outputs": [],
   "source": [
    "dataset = pd.read_csv(\"DATASET.csv\")"
   ]
  },
  {
   "cell_type": "markdown",
   "metadata": {},
   "source": [
    "### Get Titles starting with a NUMBER"
   ]
  },
  {
   "cell_type": "code",
   "execution_count": 223,
   "metadata": {},
   "outputs": [],
   "source": [
    "digits = []\n",
    "for key, value in dataset.iterrows():\n",
    "    sp = value[0].split(\" \")\n",
    "    if sp[0].isdigit():\n",
    "        digits.append(1)\n",
    "    else:\n",
    "        digits.append(0)"
   ]
  },
  {
   "cell_type": "code",
   "execution_count": 224,
   "metadata": {},
   "outputs": [],
   "source": [
    "dataset = dataset.assign(StartsWithNumber=pd.Series(np.array(digits)))"
   ]
  },
  {
   "cell_type": "markdown",
   "metadata": {},
   "source": [
    "### Get Titles starting with Stop word"
   ]
  },
  {
   "cell_type": "code",
   "execution_count": 225,
   "metadata": {},
   "outputs": [],
   "source": [
    "functional_words = [\"This\", \"Which\", \"Here's\", \"What's\", \"How\", \"These\", \"Can\", \"You\", \"Your\", \"If\", \"Are\", \"Who\", \"We\", \"Why\", \"Do\", \"It\"]\n",
    "functional_present = [0]*len(dataset)\n",
    "for key, value in dataset.iterrows():\n",
    "    sp = value[0].split(\" \")\n",
    "    if sp[0] in functional_words:\n",
    "        functional_present[key] = 1"
   ]
  },
  {
   "cell_type": "code",
   "execution_count": 226,
   "metadata": {},
   "outputs": [],
   "source": [
    "dataset = dataset.assign(StartsWithThisWhich=pd.Series(np.array(this_which)))"
   ]
  },
  {
   "cell_type": "markdown",
   "metadata": {},
   "source": [
    "### Get Titles having the pattern \"The  {NUMBER}\" "
   ]
  },
  {
   "cell_type": "code",
   "execution_count": 108,
   "metadata": {},
   "outputs": [],
   "source": [
    "the_and_number = []\n",
    "for key, value in dataset.iterrows():\n",
    "    sp = value[0].split(\" \")\n",
    "    for i in range(len(sp) - 1):\n",
    "        if sp[i] == \"The\" and sp[i+1].isdigit():\n",
    "            the_and_number.append(1)\n",
    "        else:\n",
    "            the_and_number.append(0)\n",
    "        "
   ]
  },
  {
   "cell_type": "code",
   "execution_count": 109,
   "metadata": {},
   "outputs": [],
   "source": [
    "dataset = dataset.assign(TheNUMBER=pd.Series(np.array(the_and_number)))"
   ]
  },
  {
   "cell_type": "markdown",
   "metadata": {},
   "source": [
    "### Get Titles having slang words"
   ]
  },
  {
   "cell_type": "code",
   "execution_count": 219,
   "metadata": {},
   "outputs": [],
   "source": [
    "slang_present = [0]*len(dataset)\n",
    "slangs = [\"LOL\", \"OMG\", \"WTF\", \"AMA\", \"AF\", \"Fuck\", \"FYI\", \"BFF\", \"IRL\", \"DIY\", \"Hashtag\", \"BBQ\", \"ASAP\", \"GIF\", \"FOMO\", \"Aww\", \"TBT\", \"OCD\", \"PTSD\", \"STD\", \"Nope\", \"nope\", \"NOPE\", \"TBH\", \"Shit\", \"shit\", \"Suck\"]\n",
    "for key, value in dataset.iterrows():\n",
    "    for slang in slangs:\n",
    "        if slang in value[0]:\n",
    "            if slang_present[key] is 0:\n",
    "                slang_present[key] = 1\n"
   ]
  },
  {
   "cell_type": "code",
   "execution_count": 111,
   "metadata": {},
   "outputs": [],
   "source": [
    "dataset = dataset.assign(slang_present=pd.Series(np.array(is_slang_present)))"
   ]
  },
  {
   "cell_type": "markdown",
   "metadata": {},
   "source": [
    "### Get Titles having short words"
   ]
  },
  {
   "cell_type": "code",
   "execution_count": 218,
   "metadata": {},
   "outputs": [],
   "source": [
    "shortwords_present = [0]*len(dataset)\n",
    "shortwords = [\"You'll\", \"They'll\", \"They're\", \"We're\", \"I'm\", \"You're\", \"You've\"]\n",
    "for key, value in dataset.iterrows():\n",
    "    for shortword in shortwords:\n",
    "        if shortword in value[0]:\n",
    "            if shortwords_present[key] is 0:\n",
    "                shortwords_present[key] = 1"
   ]
  },
  {
   "cell_type": "code",
   "execution_count": 114,
   "metadata": {},
   "outputs": [],
   "source": [
    "dataset = dataset.assign(short_words_present=pd.Series(np.array(shortwords_present)))"
   ]
  },
  {
   "cell_type": "markdown",
   "metadata": {},
   "source": [
    "### Get Titles having top 25 Clickbait bigrams"
   ]
  },
  {
   "cell_type": "code",
   "execution_count": 209,
   "metadata": {},
   "outputs": [
    {
     "name": "stdout",
     "output_type": "stream",
     "text": [
      "32000\n"
     ]
    }
   ],
   "source": [
    "phrases_present = [0]*len(dataset)\n",
    "phrases = [\"You Deserve\", \"You Should\", \"You Have\", \"You Only\", \"About Your\"]\n",
    "for key, value in dataset.iterrows():\n",
    "    for phrase in phrases:\n",
    "        if phrase in value[0]:\n",
    "            if phrases_present[key] is 0:\n",
    "                phrases_present[key] = 1"
   ]
  },
  {
   "cell_type": "code",
   "execution_count": 222,
   "metadata": {},
   "outputs": [],
   "source": [
    "dataset = dataset.assign(phrases_present=pd.Series(np.array(phrases_present)))"
   ]
  },
  {
   "cell_type": "markdown",
   "metadata": {},
   "source": [
    "### Get Titles having punctuations"
   ]
  },
  {
   "cell_type": "code",
   "execution_count": 115,
   "metadata": {},
   "outputs": [],
   "source": [
    "is_punctuation_present = []\n",
    "for key, value in dataset.iterrows():\n",
    "    if '\"' in value[0] or \"!\" in value[0] or \"!!\" in value[0] or \"?!\" in value[0] or \"...\" in value[0] or \"*\" in value[0]:\n",
    "        is_punctuation_present.append(1)\n",
    "    else:\n",
    "        is_punctuation_present.append(0)"
   ]
  },
  {
   "cell_type": "code",
   "execution_count": 116,
   "metadata": {},
   "outputs": [],
   "source": [
    "dataset = dataset.assign(punctuation_present=pd.Series(np.array(is_punctuation_present)))"
   ]
  }
 ],
 "metadata": {
  "kernelspec": {
   "display_name": "Python 3",
   "language": "python",
   "name": "python3"
  },
  "language_info": {
   "codemirror_mode": {
    "name": "ipython",
    "version": 3
   },
   "file_extension": ".py",
   "mimetype": "text/x-python",
   "name": "python",
   "nbconvert_exporter": "python",
   "pygments_lexer": "ipython3",
   "version": "3.7.0"
  }
 },
 "nbformat": 4,
 "nbformat_minor": 2
}
