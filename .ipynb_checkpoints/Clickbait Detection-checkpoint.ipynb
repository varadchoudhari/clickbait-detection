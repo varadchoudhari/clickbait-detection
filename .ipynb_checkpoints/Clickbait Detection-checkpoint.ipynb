{
 "cells": [
  {
   "cell_type": "code",
   "execution_count": 5,
   "metadata": {},
   "outputs": [],
   "source": [
    "import pickle\n",
    "import pandas as pd"
   ]
  },
  {
   "cell_type": "code",
   "execution_count": 16,
   "metadata": {},
   "outputs": [],
   "source": [
    "train = open(\"train\",'rb')\n",
    "train_data = pickle.load(train)"
   ]
  },
  {
   "cell_type": "code",
   "execution_count": 17,
   "metadata": {},
   "outputs": [],
   "source": [
    "data = pd.DataFrame.from_dict(train_data, orient=\"index\", columns=[\"Sentence\",\"Clickbait\"])"
   ]
  },
  {
   "cell_type": "code",
   "execution_count": 18,
   "metadata": {},
   "outputs": [
    {
     "data": {
      "text/html": [
       "<div>\n",
       "<style scoped>\n",
       "    .dataframe tbody tr th:only-of-type {\n",
       "        vertical-align: middle;\n",
       "    }\n",
       "\n",
       "    .dataframe tbody tr th {\n",
       "        vertical-align: top;\n",
       "    }\n",
       "\n",
       "    .dataframe thead th {\n",
       "        text-align: right;\n",
       "    }\n",
       "</style>\n",
       "<table border=\"1\" class=\"dataframe\">\n",
       "  <thead>\n",
       "    <tr style=\"text-align: right;\">\n",
       "      <th></th>\n",
       "      <th>Sentence</th>\n",
       "      <th>Clickbait</th>\n",
       "    </tr>\n",
       "  </thead>\n",
       "  <tbody>\n",
       "    <tr>\n",
       "      <th>608310377143799810</th>\n",
       "      <td>[Apple's iOS 9 'App thinning' feature will giv...</td>\n",
       "      <td>0</td>\n",
       "    </tr>\n",
       "    <tr>\n",
       "      <th>609297109095972864</th>\n",
       "      <td>[RT @kenbrown12: Emerging market investors are...</td>\n",
       "      <td>0</td>\n",
       "    </tr>\n",
       "    <tr>\n",
       "      <th>609504474621612032</th>\n",
       "      <td>[U.S. Soccer should start answering tough ques...</td>\n",
       "      <td>1</td>\n",
       "    </tr>\n",
       "    <tr>\n",
       "      <th>609748367049105409</th>\n",
       "      <td>[How theme parks like Disney World left the mi...</td>\n",
       "      <td>0</td>\n",
       "    </tr>\n",
       "    <tr>\n",
       "      <th>608688782821453825</th>\n",
       "      <td>[Could light bulbs hurt your health? One compa...</td>\n",
       "      <td>1</td>\n",
       "    </tr>\n",
       "  </tbody>\n",
       "</table>\n",
       "</div>"
      ],
      "text/plain": [
       "                                                             Sentence  \\\n",
       "608310377143799810  [Apple's iOS 9 'App thinning' feature will giv...   \n",
       "609297109095972864  [RT @kenbrown12: Emerging market investors are...   \n",
       "609504474621612032  [U.S. Soccer should start answering tough ques...   \n",
       "609748367049105409  [How theme parks like Disney World left the mi...   \n",
       "608688782821453825  [Could light bulbs hurt your health? One compa...   \n",
       "\n",
       "                    Clickbait  \n",
       "608310377143799810          0  \n",
       "609297109095972864          0  \n",
       "609504474621612032          1  \n",
       "609748367049105409          0  \n",
       "608688782821453825          1  "
      ]
     },
     "execution_count": 18,
     "metadata": {},
     "output_type": "execute_result"
    }
   ],
   "source": [
    "data.head()"
   ]
  },
  {
   "cell_type": "code",
   "execution_count": null,
   "metadata": {},
   "outputs": [],
   "source": []
  }
 ],
 "metadata": {
  "kernelspec": {
   "display_name": "Python 3",
   "language": "python",
   "name": "python3"
  },
  "language_info": {
   "codemirror_mode": {
    "name": "ipython",
    "version": 3
   },
   "file_extension": ".py",
   "mimetype": "text/x-python",
   "name": "python",
   "nbconvert_exporter": "python",
   "pygments_lexer": "ipython3",
   "version": "3.7.0"
  }
 },
 "nbformat": 4,
 "nbformat_minor": 2
}
