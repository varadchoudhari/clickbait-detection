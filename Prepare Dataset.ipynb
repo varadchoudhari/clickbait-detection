{
 "cells": [
  {
   "cell_type": "markdown",
   "metadata": {},
   "source": [
    "### Get original dataset"
   ]
  },
  {
   "cell_type": "code",
   "execution_count": null,
   "metadata": {},
   "outputs": [],
   "source": [
    "import pickle\n",
    "import pandas as pd"
   ]
  },
  {
   "cell_type": "code",
   "execution_count": 12,
   "metadata": {},
   "outputs": [],
   "source": [
    "fclickbait = open(\"dataset/original/clickbait20k.pkl\", \"rb\")\n",
    "clickbait_read = pickle.load(fclickbait)"
   ]
  },
  {
   "cell_type": "code",
   "execution_count": 13,
   "metadata": {},
   "outputs": [],
   "source": [
    "fnon_clickbait = open(\"dataset/original/nonclickbait20k.pkl\", \"rb\")\n",
    "non_clickbait_read = pickle.load(fnon_clickbait)"
   ]
  },
  {
   "cell_type": "code",
   "execution_count": 4,
   "metadata": {},
   "outputs": [],
   "source": [
    "cb_with_judgements = []\n",
    "for data in clickbait_read:\n",
    "    cb_with_judgements.append([data, 1])"
   ]
  },
  {
   "cell_type": "code",
   "execution_count": 5,
   "metadata": {},
   "outputs": [],
   "source": [
    "ncb_with_judgements = []\n",
    "for data in non_clickbait_read:\n",
    "    ncb_with_judgements.append([data, 0]) "
   ]
  },
  {
   "cell_type": "code",
   "execution_count": 75,
   "metadata": {},
   "outputs": [],
   "source": [
    "to_train = cb_with_judgements[:16000] + ncb_with_judgements[:16000]\n",
    "to_test = cb_with_judgements[16001:] + ncb_with_judgements[16001:]"
   ]
  },
  {
   "cell_type": "code",
   "execution_count": 76,
   "metadata": {},
   "outputs": [],
   "source": [
    "from random import shuffle"
   ]
  },
  {
   "cell_type": "code",
   "execution_count": 77,
   "metadata": {},
   "outputs": [],
   "source": [
    "shuffle(to_train)\n",
    "shuffle(to_test)"
   ]
  },
  {
   "cell_type": "code",
   "execution_count": 78,
   "metadata": {},
   "outputs": [],
   "source": [
    "train_df = pd.DataFrame(to_train, columns=[\"Title\", \"Clickbait\"])\n",
    "test_df = pd.DataFrame(to_test, columns=[\"Title\", \"Clickbait\"])"
   ]
  },
  {
   "cell_type": "code",
   "execution_count": 79,
   "metadata": {},
   "outputs": [],
   "source": [
    "train_df.to_csv(\"dataset/original/dataframe/original_train.csv\", index=False)\n",
    "test_df.to_csv(\"dataset/original/dataframe/original_test.csv\", index=False)"
   ]
  },
  {
   "cell_type": "markdown",
   "metadata": {},
   "source": [
    "### Get Clickbait Challenge Dataset"
   ]
  },
  {
   "cell_type": "code",
   "execution_count": 5,
   "metadata": {},
   "outputs": [],
   "source": [
    "import pickle\n",
    "import pandas as pd"
   ]
  },
  {
   "cell_type": "code",
   "execution_count": 13,
   "metadata": {},
   "outputs": [],
   "source": [
    "f_cbc = open(\"dataset/clickbait_challenge/train.pkl\", \"rb\")\n",
    "cbc_data = pickle.load(f_cbc)"
   ]
  },
  {
   "cell_type": "code",
   "execution_count": 14,
   "metadata": {},
   "outputs": [],
   "source": [
    "cbc_df = pd.DataFrame(cbc_data, columns=[\"Title\", \"Clickbait\"])"
   ]
  },
  {
   "cell_type": "code",
   "execution_count": 17,
   "metadata": {},
   "outputs": [],
   "source": [
    "cbc_df.to_csv(\"dataset/clickbait_challenge/train.csv\", index=False)"
   ]
  },
  {
   "cell_type": "code",
   "execution_count": null,
   "metadata": {},
   "outputs": [],
   "source": []
  }
 ],
 "metadata": {
  "kernelspec": {
   "display_name": "Python 3",
   "language": "python",
   "name": "python3"
  },
  "language_info": {
   "codemirror_mode": {
    "name": "ipython",
    "version": 3
   },
   "file_extension": ".py",
   "mimetype": "text/x-python",
   "name": "python",
   "nbconvert_exporter": "python",
   "pygments_lexer": "ipython3",
   "version": "3.7.0"
  }
 },
 "nbformat": 4,
 "nbformat_minor": 2
}
